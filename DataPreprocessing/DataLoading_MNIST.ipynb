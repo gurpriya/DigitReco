{
  "nbformat": 4,
  "nbformat_minor": 0,
  "metadata": {
    "colab": {
      "provenance": []
    },
    "kernelspec": {
      "name": "python3",
      "display_name": "Python 3"
    },
    "language_info": {
      "name": "python"
    }
  },
  "cells": [
    {
      "cell_type": "markdown",
      "source": [
        "Lets start with the basic of loading MNIST data"
      ],
      "metadata": {
        "id": "-79mTB04Byvu"
      }
    },
    {
      "cell_type": "code",
      "execution_count": 42,
      "metadata": {
        "id": "tCTUJqr56Tu2"
      },
      "outputs": [],
      "source": [
        "#interating with the drive so that you dont have to upload data everytime you use it\n",
        "from google.colab import drive\n",
        "drive.mount('/content/drive')"
      ]
    },
    {
      "cell_type": "code",
      "source": [
        "#check what is your current working director -- generally its /content\n",
        "pwd"
      ],
      "metadata": {
        "id": "zLMVyjds1Bxx"
      },
      "execution_count": 43,
      "outputs": []
    },
    {
      "cell_type": "code",
      "source": [
        "#check if you can access the data directory - by looking into the content of the directory\n",
        "!ls \"/content/drive/MyDrive/Colab Notebooks/datasets/MNIST_Data\""
      ],
      "metadata": {
        "id": "bUtFodW91NLt"
      },
      "execution_count": 44,
      "outputs": []
    },
    {
      "cell_type": "code",
      "source": [
        "#importing torch\n",
        "import torch"
      ],
      "metadata": {
        "id": "p1iotK6o6pIO"
      },
      "execution_count": 45,
      "outputs": []
    },
    {
      "cell_type": "markdown",
      "source": [
        "IDX file format: a simple format for vectors and multidimensional matrices of various numerical types. It is a binary format - sequence of bytes (8 bit - sequence of 0s and 1s); most efficient and compact way to store data\n",
        "\n",
        "IDX file format is the Orginal file format for MNIST dataset\n",
        "\n",
        "Dataset link\n",
        "- orignal: https://yann.lecun.com/exdb/mnist/\n",
        "- Kaggle: https://www.kaggle.com/datasets/hojjatk/mnist-dataset\n",
        "\n",
        "\n",
        "\n",
        "MNIST is a set of 70,000 images of handwritten digits (‘0’ through ‘9’). Each image is 28 pixels by 28 pixels. Each pixel is a grayscale value between 0 and 255.\n",
        "\n",
        "There are 60,000 images designated for training (6,000 of each digit) and 10,000 images designated for training (1,000 of each digit).\n",
        "\n"
      ],
      "metadata": {
        "id": "3C0pgqWN2t48"
      }
    },
    {
      "cell_type": "code",
      "source": [
        "#pytorch library used to convert idx format to numpy\n",
        "!pip install idx2numpy"
      ],
      "metadata": {
        "id": "vSGMeM55FOZA"
      },
      "execution_count": 46,
      "outputs": []
    },
    {
      "cell_type": "code",
      "source": [
        "import idx2numpy\n",
        "import os\n",
        "\n",
        "#specify the initial path of the directory\n",
        "initial_path = '/content/drive/MyDrive/Colab Notebooks/datasets/MNIST_Data' #replace this with your directory path\n",
        "\n",
        "#convert the idx files to numpy arrays\n",
        "data_test = idx2numpy.convert_from_file(os.path.join(initial_path,'t10k-images.idx3-ubyte')) #replace this with your file path/name\n",
        "label_test = idx2numpy.convert_from_file(os.path.join(initial_path,'t10k-labels.idx1-ubyte'))\n",
        "data_train = idx2numpy.convert_from_file(os.path.join(initial_path,'train-images.idx3-ubyte'))\n",
        "label_train = idx2numpy.convert_from_file(os.path.join(initial_path,'train-labels.idx1-ubyte'))\n"
      ],
      "metadata": {
        "id": "4K7H4d7NFPfi"
      },
      "execution_count": 47,
      "outputs": []
    },
    {
      "cell_type": "code",
      "source": [
        "#.shape: tells you the structure of the array (how many rows, columns, etc.)\n",
        "#.size: tells you the total number of elements in the array .\n",
        "print(f\"the structure of the test data is : {data_test.shape} and the size is : {data_test.size}\")\n",
        "print(f\"the structure of the train data is : {data_train.shape} and the size is : {data_train.size}\")\n"
      ],
      "metadata": {
        "colab": {
          "base_uri": "https://localhost:8080/"
        },
        "id": "JaOd8fKqHWkc",
        "outputId": "4031c83c-4ff2-4007-9c9a-b5a0dabd3933"
      },
      "execution_count": 48,
      "outputs": [
        {
          "output_type": "stream",
          "name": "stdout",
          "text": [
            "the structure of the test data is : (10000, 28, 28) and the size is : 7840000\n",
            "the structure of the train data is : (60000, 28, 28) and the size is : 47040000\n"
          ]
        }
      ]
    },
    {
      "cell_type": "code",
      "source": [
        "#lets see how one data point looks like\n",
        "print(f\"the first data point is : {data_train[0]} and its label is {label_train[0]} \")\n",
        "\n"
      ],
      "metadata": {
        "colab": {
          "base_uri": "https://localhost:8080/"
        },
        "id": "MBwXe-TOKh_7",
        "outputId": "39615c71-2639-4488-c0b8-cc66c3b8ccdd"
      },
      "execution_count": 49,
      "outputs": [
        {
          "output_type": "stream",
          "name": "stdout",
          "text": [
            "the first data point is : [[  0   0   0   0   0   0   0   0   0   0   0   0   0   0   0   0   0   0\n",
            "    0   0   0   0   0   0   0   0   0   0]\n",
            " [  0   0   0   0   0   0   0   0   0   0   0   0   0   0   0   0   0   0\n",
            "    0   0   0   0   0   0   0   0   0   0]\n",
            " [  0   0   0   0   0   0   0   0   0   0   0   0   0   0   0   0   0   0\n",
            "    0   0   0   0   0   0   0   0   0   0]\n",
            " [  0   0   0   0   0   0   0   0   0   0   0   0   0   0   0   0   0   0\n",
            "    0   0   0   0   0   0   0   0   0   0]\n",
            " [  0   0   0   0   0   0   0   0   0   0   0   0   0   0   0   0   0   0\n",
            "    0   0   0   0   0   0   0   0   0   0]\n",
            " [  0   0   0   0   0   0   0   0   0   0   0   0   3  18  18  18 126 136\n",
            "  175  26 166 255 247 127   0   0   0   0]\n",
            " [  0   0   0   0   0   0   0   0  30  36  94 154 170 253 253 253 253 253\n",
            "  225 172 253 242 195  64   0   0   0   0]\n",
            " [  0   0   0   0   0   0   0  49 238 253 253 253 253 253 253 253 253 251\n",
            "   93  82  82  56  39   0   0   0   0   0]\n",
            " [  0   0   0   0   0   0   0  18 219 253 253 253 253 253 198 182 247 241\n",
            "    0   0   0   0   0   0   0   0   0   0]\n",
            " [  0   0   0   0   0   0   0   0  80 156 107 253 253 205  11   0  43 154\n",
            "    0   0   0   0   0   0   0   0   0   0]\n",
            " [  0   0   0   0   0   0   0   0   0  14   1 154 253  90   0   0   0   0\n",
            "    0   0   0   0   0   0   0   0   0   0]\n",
            " [  0   0   0   0   0   0   0   0   0   0   0 139 253 190   2   0   0   0\n",
            "    0   0   0   0   0   0   0   0   0   0]\n",
            " [  0   0   0   0   0   0   0   0   0   0   0  11 190 253  70   0   0   0\n",
            "    0   0   0   0   0   0   0   0   0   0]\n",
            " [  0   0   0   0   0   0   0   0   0   0   0   0  35 241 225 160 108   1\n",
            "    0   0   0   0   0   0   0   0   0   0]\n",
            " [  0   0   0   0   0   0   0   0   0   0   0   0   0  81 240 253 253 119\n",
            "   25   0   0   0   0   0   0   0   0   0]\n",
            " [  0   0   0   0   0   0   0   0   0   0   0   0   0   0  45 186 253 253\n",
            "  150  27   0   0   0   0   0   0   0   0]\n",
            " [  0   0   0   0   0   0   0   0   0   0   0   0   0   0   0  16  93 252\n",
            "  253 187   0   0   0   0   0   0   0   0]\n",
            " [  0   0   0   0   0   0   0   0   0   0   0   0   0   0   0   0   0 249\n",
            "  253 249  64   0   0   0   0   0   0   0]\n",
            " [  0   0   0   0   0   0   0   0   0   0   0   0   0   0  46 130 183 253\n",
            "  253 207   2   0   0   0   0   0   0   0]\n",
            " [  0   0   0   0   0   0   0   0   0   0   0   0  39 148 229 253 253 253\n",
            "  250 182   0   0   0   0   0   0   0   0]\n",
            " [  0   0   0   0   0   0   0   0   0   0  24 114 221 253 253 253 253 201\n",
            "   78   0   0   0   0   0   0   0   0   0]\n",
            " [  0   0   0   0   0   0   0   0  23  66 213 253 253 253 253 198  81   2\n",
            "    0   0   0   0   0   0   0   0   0   0]\n",
            " [  0   0   0   0   0   0  18 171 219 253 253 253 253 195  80   9   0   0\n",
            "    0   0   0   0   0   0   0   0   0   0]\n",
            " [  0   0   0   0  55 172 226 253 253 253 253 244 133  11   0   0   0   0\n",
            "    0   0   0   0   0   0   0   0   0   0]\n",
            " [  0   0   0   0 136 253 253 253 212 135 132  16   0   0   0   0   0   0\n",
            "    0   0   0   0   0   0   0   0   0   0]\n",
            " [  0   0   0   0   0   0   0   0   0   0   0   0   0   0   0   0   0   0\n",
            "    0   0   0   0   0   0   0   0   0   0]\n",
            " [  0   0   0   0   0   0   0   0   0   0   0   0   0   0   0   0   0   0\n",
            "    0   0   0   0   0   0   0   0   0   0]\n",
            " [  0   0   0   0   0   0   0   0   0   0   0   0   0   0   0   0   0   0\n",
            "    0   0   0   0   0   0   0   0   0   0]] and its label is 5 \n"
          ]
        }
      ]
    },
    {
      "cell_type": "markdown",
      "source": [
        "Coverting numpy array to tensors because,  \n",
        "- In PyTorch tensors are used to encode the inputs and outputs of a model, as well as the model’s parameters.\n",
        "- PyTorch provides a rich set of operations specifically designed for tensors, enabling efficient computations and manipulations."
      ],
      "metadata": {
        "id": "Zu-fsG_86oWW"
      }
    },
    {
      "cell_type": "code",
      "source": [
        "# Convert to PyTorch tensor\n",
        "data_test_tensor =  torch.from_numpy(data_test)\n",
        "label_test_tensor = torch.from_numpy(label_test)\n",
        "data_train_tensor = torch.from_numpy(data_train)\n",
        "label_train_tensor = torch.from_numpy(label_train)"
      ],
      "metadata": {
        "id": "Y2jS_EOGGFdt"
      },
      "execution_count": 50,
      "outputs": []
    },
    {
      "cell_type": "code",
      "source": [
        "#lets find various attributes of the tensor\n",
        "print(f\"the device tensor is stored on is : {data_test_tensor.device}\")\n",
        "print(f\"the type of the tensor is : {data_test_tensor.dtype}\")\n",
        "print(f\"the size of the test data is : {data_test_tensor.shape}\") #alternative is data_test_tensor.size()\n"
      ],
      "metadata": {
        "colab": {
          "base_uri": "https://localhost:8080/"
        },
        "id": "QwRODdrlMQ4b",
        "outputId": "2c1a2d75-eaa7-4e02-c1c2-7fe12e9b0cc8"
      },
      "execution_count": 51,
      "outputs": [
        {
          "output_type": "stream",
          "name": "stdout",
          "text": [
            "the device tensor is stored on is : cpu\n",
            "the type of the tensor is : torch.uint8\n",
            "the size of the test data is : torch.Size([10000, 28, 28])\n"
          ]
        }
      ]
    },
    {
      "cell_type": "code",
      "source": [
        "#to move tensor to GPU\n",
        "if torch.cuda.is_available(): #first thing is to check if GPU is available\n",
        "  data_test_tensor = data_test_tensor.to('cuda')\n",
        "  print(f\"the device tensor is stored on is : {data_test_tensor.device}\")\n",
        "else:\n",
        "  print(\"GPU is not available\")\n",
        "\n"
      ],
      "metadata": {
        "colab": {
          "base_uri": "https://localhost:8080/"
        },
        "id": "aevjL9QI7kur",
        "outputId": "59a12b20-0ac7-4698-bfd4-0e559126db26"
      },
      "execution_count": 52,
      "outputs": [
        {
          "output_type": "stream",
          "name": "stdout",
          "text": [
            "GPU is not available\n"
          ]
        }
      ]
    },
    {
      "cell_type": "markdown",
      "source": [
        "Tensor operations : by default all operators are row wise (dim=0), if you want to do column wise then specify (dim=1)\n"
      ],
      "metadata": {
        "id": "gRFRBIRyBJbH"
      }
    },
    {
      "cell_type": "code",
      "source": [],
      "metadata": {
        "id": "prT76proNZTw"
      },
      "execution_count": 52,
      "outputs": []
    }
  ]
}